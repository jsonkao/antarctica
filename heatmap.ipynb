{
 "cells": [
  {
   "cell_type": "markdown",
   "metadata": {},
   "source": [
    "## Load Ice Velocity Data"
   ]
  },
  {
   "cell_type": "code",
   "execution_count": 479,
   "metadata": {},
   "outputs": [],
   "source": [
    "import numpy as np\n",
    "import netCDF4"
   ]
  },
  {
   "cell_type": "markdown",
   "metadata": {},
   "source": [
    "Data about ice sheet motion in Antarctica comes from NSIDC's [Antarctica Ice Velocity Map, Version 2](https://nsidc.org/data/nsidc-0484). The data set exports a 6.8 GB [NetCDF file](http://unidata.github.io/netcdf4-python/netCDF4/index.html)."
   ]
  },
  {
   "cell_type": "code",
   "execution_count": 480,
   "metadata": {},
   "outputs": [
    {
     "name": "stdout",
     "output_type": "stream",
     "text": [
      "<class 'netCDF4._netCDF4.Dataset'>\n",
      "root group (NETCDF4 data model, file format HDF5):\n",
      "    Conventions: CF-1.6\n",
      "    Metadata_Conventions: CF-1.6, Unidata Dataset Discovery v1.0, GDS v2.0\n",
      "    standard_name_vocabulary: CF Standard Name Table (v22, 12 February 2013)\n",
      "    id: vel_nsidc.CF16.nc\n",
      "    title: MEaSURES Antarctica Ice Velocity Map 450m spacing\n",
      "    product_version:  \n",
      "    summary:  \n",
      "    keywords:  \n",
      "    keywords_vocabulary:  \n",
      "    platform:  \n",
      "    sensor:  \n",
      "    date_created: 2017-04-06T17:47:44.00004923343322Z\n",
      "    institution: Department of Earth System Science, University of California, Irvine\n",
      "    cdm_data_type: Grid\n",
      "    geospatial_lat_units: degrees_north\n",
      "    geospatial_lon_units: degrees_east\n",
      "    geospatial_lat_min: -90\n",
      "    geospatial_lat_max: -60\n",
      "    geospatial_lon_min: -180\n",
      "    geospatial_lon_max: 180\n",
      "    spatial_resolution: 450m\n",
      "    time_coverage_start: 1995-01-01\n",
      "    time_coverage_end: 2016-12-31\n",
      "    project: NASA/MEaSUREs\n",
      "    creator_name: J. Mouginot\n",
      "    license: No restrictions on access or use\n",
      "    dimensions(sizes): x(12445), y(12445)\n",
      "    variables(dimensions): |S1 coord_system(), float64 x(x), float64 y(y), float64 lat(y,x), float64 lon(y,x), float32 VX(y,x), float32 VY(y,x), float32 STDX(y,x), float32 STDY(y,x), float32 ERRX(y,x), float32 ERRY(y,x), int32 CNT(y,x)\n",
      "    groups: \n"
     ]
    }
   ],
   "source": [
    "f = netCDF4.Dataset('data/antarctica_ice_velocity_450m_v2.nc')\n",
    "print(f)"
   ]
  },
  {
   "cell_type": "markdown",
   "metadata": {},
   "source": [
    "## Making a heatmap of ice velocity"
   ]
  },
  {
   "cell_type": "markdown",
   "metadata": {},
   "source": [
    "We first retrieve the numpy arrays for the variables `VX` and `VY` (components of velocity in m/yr in x/y direction). We then convert the velocity components into magnitude (speed)."
   ]
  },
  {
   "cell_type": "code",
   "execution_count": 481,
   "metadata": {},
   "outputs": [],
   "source": [
    "vel_x = f.variables['VX'][:]\n",
    "vel_y = f.variables['VY'][:]\n",
    "speed = (vel_x ** 2 + vel_y ** 2) ** 0.5"
   ]
  },
  {
   "cell_type": "markdown",
   "metadata": {},
   "source": [
    "To decide a color scale, let's first see how speed is distributed.\n",
    "\n",
    "Note: The data contain missing values (presumably for locations outside of Antarctica), so `VX` and `VY`, and thus `speed`, are [masked arrays](https://numpy.org/devdocs/reference/maskedarray.generic.html). We must first run it through [compressed](https://numpy.org/doc/1.18/reference/generated/numpy.ma.MaskedArray.compressed.html#numpy.ma.MaskedArray.compressed)."
   ]
  },
  {
   "cell_type": "code",
   "execution_count": 482,
   "metadata": {},
   "outputs": [],
   "source": [
    "speed_values = speed.compressed()"
   ]
  },
  {
   "cell_type": "code",
   "execution_count": 483,
   "metadata": {},
   "outputs": [],
   "source": [
    "from matplotlib import pyplot as plt"
   ]
  },
  {
   "cell_type": "code",
   "execution_count": 484,
   "metadata": {},
   "outputs": [
    {
     "data": {
      "text/plain": [
       "Text(0.5, 1.0, 'Ice speed distribution on a log scale')"
      ]
     },
     "execution_count": 484,
     "metadata": {},
     "output_type": "execute_result"
    },
    {
     "data": {
      "image/png": "[encoded data removed]",
      "text/plain": [
       "<Figure size 864x360 with 2 Axes>"
      ]
     },
     "metadata": {
      "needs_background": "light"
     },
     "output_type": "display_data"
    }
   ],
   "source": [
    "fig, (ax_lin, ax_log) = plt.subplots(nrows=1, ncols=2, figsize=(12, 5))\n",
    "\n",
    "ax_lin.hist(speed_values, bins = 100)\n",
    "ax_lin.set_title('Ice speed distribution on a linear scale')\n",
    "\n",
    "ax_log.hist(speed_values, bins = 100)\n",
    "ax_log.set_yscale('log')\n",
    "ax_log.set_title('Ice speed distribution on a log scale')"
   ]
  },
  {
   "cell_type": "markdown",
   "metadata": {},
   "source": [
    "In the log graph there's a weirdly steep cutoff after ~5,000 m/yr but we'll ignore that for now. There are also a few outliers around 7,000 and 10,000. They might be worth annotating/investigating, or maybe they call for a different kind of scale (bins), but we'll do that later.\n",
    "\n",
    "For now, we'll go with a linear scale maxed at ~2,300 and see what happens. TODO: Find a better way to generate this max value, or just scrap the linear scale."
   ]
  },
  {
   "cell_type": "code",
   "execution_count": 485,
   "metadata": {},
   "outputs": [],
   "source": [
    "SPEED_MAX = 2300"
   ]
  },
  {
   "cell_type": "markdown",
   "metadata": {},
   "source": [
    "The next step is to map each speed to a color."
   ]
  },
  {
   "cell_type": "code",
   "execution_count": 486,
   "metadata": {},
   "outputs": [],
   "source": [
    "from matplotlib import cm, colors"
   ]
  },
  {
   "cell_type": "markdown",
   "metadata": {},
   "source": [
    "We'll use a linear scale."
   ]
  },
  {
   "cell_type": "code",
   "execution_count": 487,
   "metadata": {},
   "outputs": [],
   "source": [
    "norm = colors.Normalize(vmin=0, vmax=SPEED_MAX)\n",
    "color_map = cm.ScalarMappable(norm=norm, cmap='viridis')"
   ]
  },
  {
   "cell_type": "markdown",
   "metadata": {},
   "source": [
    "The color map function is too slow, so we'll just do nearest-neighbor index stuff."
   ]
  },
  {
   "cell_type": "code",
   "execution_count": 488,
   "metadata": {},
   "outputs": [],
   "source": [
    "NUM_COLORS = 256"
   ]
  },
  {
   "cell_type": "code",
   "execution_count": 534,
   "metadata": {},
   "outputs": [],
   "source": [
    "cmap = cm.get_cmap('viridis', NUM_COLORS)\n",
    "cmap_colors = (cmap.colors * 255).tolist()"
   ]
  },
  {
   "cell_type": "markdown",
   "metadata": {},
   "source": [
    "We convert all speeds to their `cmap_colors` indices. This takes advantage of numpy's vectorization speed, so we don't have to do this processing while we're looping through every value getting the colors."
   ]
  },
  {
   "cell_type": "code",
   "execution_count": 490,
   "metadata": {},
   "outputs": [],
   "source": [
    "speed_colors = np.rint(speed / SPEED_MAX * NUM_COLORS).astype(int)\n",
    "speed_colors[speed_colors >= NUM_COLORS] = NUM_COLORS - 1"
   ]
  },
  {
   "cell_type": "markdown",
   "metadata": {},
   "source": [
    "(Here we could do some image downsampling, but the code is fast enough for now that it's not necessary.)"
   ]
  },
  {
   "cell_type": "code",
   "execution_count": 492,
   "metadata": {},
   "outputs": [],
   "source": [
    "# speed_scaled_smaller = speed_scaled[::2, ::2]\n",
    "# speed_scaled_smaller.shape"
   ]
  },
  {
   "cell_type": "markdown",
   "metadata": {},
   "source": [
    "Next, we ravel the array to make indexing easier. We also convert it into a list because this makes the list comprehension step a lot faster for some reason. (Remember that masked values become `None` after list conversion.)"
   ]
  },
  {
   "cell_type": "code",
   "execution_count": 518,
   "metadata": {},
   "outputs": [],
   "source": [
    "speed_colors_list = speed_colors.ravel().tolist()"
   ]
  },
  {
   "cell_type": "markdown",
   "metadata": {},
   "source": [
    "Now we can generate a 2D list with `speed_colors.size` rows and 4 columns."
   ]
  },
  {
   "cell_type": "code",
   "execution_count": 535,
   "metadata": {},
   "outputs": [
    {
     "name": "stdout",
     "output_type": "stream",
     "text": [
      "CPU times: user 11.3 s, sys: 1.25 s, total: 12.5 s\n",
      "Wall time: 13.4 s\n"
     ]
    }
   ],
   "source": [
    "%%time\n",
    "\n",
    "EMPTY = [0, 0, 0, 0] # RGBA for missing value is just transparent\n",
    "color_list = [ EMPTY if s is None else cmap_colors[s] for s in speed_colors_list ]"
   ]
  },
  {
   "cell_type": "markdown",
   "metadata": {},
   "source": [
    "We then convert this back to a matrix matching the original dimensions. (We could do this without numpy since numpy conversion is a bit slow, but we need a numpy array for image processing anyways.)\n",
    "\n",
    "During the conversion we also make the data-type an unsigned 8-bit integer (`np.uint8`) since `Image.fromarray` doesn't work well [with floating points](https://github.com/python-pillow/Pillow/issues/2856)."
   ]
  },
  {
   "cell_type": "code",
   "execution_count": 503,
   "metadata": {},
   "outputs": [],
   "source": [
    "from itertools import chain"
   ]
  },
  {
   "cell_type": "markdown",
   "metadata": {},
   "source": [
    "[Source for the following really fast array conversion.](https://stackoverflow.com/questions/17973507/why-is-converting-a-long-2d-list-to-numpy-array-so-slow) "
   ]
  },
  {
   "cell_type": "code",
   "execution_count": 536,
   "metadata": {},
   "outputs": [
    {
     "name": "stdout",
     "output_type": "stream",
     "text": [
      "CPU times: user 32.8 s, sys: 1.07 s, total: 33.8 s\n",
      "Wall time: 35 s\n"
     ]
    }
   ],
   "source": [
    "%%time\n",
    "\n",
    "color_array = np.fromiter(chain.from_iterable(color_list), np.uint8).reshape(speed_colors.shape + (4,))"
   ]
  },
  {
   "cell_type": "markdown",
   "metadata": {},
   "source": [
    "## Convert RGBA array to image"
   ]
  },
  {
   "cell_type": "code",
   "execution_count": 505,
   "metadata": {},
   "outputs": [],
   "source": [
    "from PIL import Image"
   ]
  },
  {
   "cell_type": "markdown",
   "metadata": {},
   "source": [
    "Finally, we create and show the image."
   ]
  },
  {
   "cell_type": "code",
   "execution_count": 538,
   "metadata": {},
   "outputs": [
    {
     "name": "stdout",
     "output_type": "stream",
     "text": [
      "CPU times: user 38.5 s, sys: 797 ms, total: 39.3 s\n",
      "Wall time: 41.2 s\n"
     ]
    }
   ],
   "source": [
    "%%time\n",
    "\n",
    "img = Image.fromarray(color_array, 'RGBA')\n",
    "img.save('images/heatmap.png')\n",
    "img.show()"
   ]
  }
 ],
 "metadata": {
  "kernelspec": {
   "display_name": "Python 3",
   "language": "python",
   "name": "python3"
  },
  "language_info": {
   "codemirror_mode": {
    "name": "ipython",
    "version": 3
   },
   "file_extension": ".py",
   "mimetype": "text/x-python",
   "name": "python",
   "nbconvert_exporter": "python",
   "pygments_lexer": "ipython3",
   "version": "3.7.7"
  }
 },
 "nbformat": 4,
 "nbformat_minor": 4
}
