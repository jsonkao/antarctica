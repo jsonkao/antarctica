{
 "cells": [
  {
   "cell_type": "code",
   "execution_count": 110,
   "metadata": {},
   "outputs": [
    {
     "data": {
      "text/plain": [
       "(0.267004, 0.004874, 0.329415, 1.0)"
      ]
     },
     "execution_count": 110,
     "metadata": {},
     "output_type": "execute_result"
    }
   ],
   "source": [
    "from matplotlib import cm, colors\n",
    "import numpy as np\n",
    "import netCDF4\n",
    "\n",
    "cm.ScalarMappable(cmap = 'viridis').cmap(0)"
   ]
  },
  {
   "cell_type": "code",
   "execution_count": 2,
   "metadata": {},
   "outputs": [],
   "source": [
    "f = netCDF4.Dataset('data/antarctica_ice_velocity_450m_v2.nc')"
   ]
  },
  {
   "cell_type": "code",
   "execution_count": 111,
   "metadata": {},
   "outputs": [],
   "source": [
    "velX = f.variables['VX']\n",
    "velY = f.variables['VY']\n",
    "velXArray = velX[:]\n",
    "velYArray = velY[:]\n",
    "speed = (velXArray ** 2 + velXArray ** 2) ** 0.5\n",
    "sepedMax = np.max(speed)"
   ]
  },
  {
   "cell_type": "code",
   "execution_count": 60,
   "metadata": {},
   "outputs": [],
   "source": [
    "speedNorm = colors.Normalize(vmin = 0, vmax = np.max(speed))\n",
    "speedScale = cm.ScalarMappable(norm = speedNorm, cmap = 'viridis').cmap"
   ]
  },
  {
   "cell_type": "code",
   "execution_count": 118,
   "metadata": {},
   "outputs": [],
   "source": [
    "comp = speed.compressed()"
   ]
  },
  {
   "cell_type": "code",
   "execution_count": null,
   "metadata": {},
   "outputs": [],
   "source": [
    "sorted(comp)"
   ]
  }
 ],
 "metadata": {
  "kernelspec": {
   "display_name": "Python 3",
   "language": "python",
   "name": "python3"
  },
  "language_info": {
   "codemirror_mode": {
    "name": "ipython",
    "version": 3
   },
   "file_extension": ".py",
   "mimetype": "text/x-python",
   "name": "python",
   "nbconvert_exporter": "python",
   "pygments_lexer": "ipython3",
   "version": "3.7.7"
  }
 },
 "nbformat": 4,
 "nbformat_minor": 4
}
