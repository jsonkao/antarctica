{
 "cells": [
  {
   "cell_type": "markdown",
   "metadata": {},
   "source": [
    "## Load Ice Velocity Data"
   ]
  },
  {
   "cell_type": "code",
   "execution_count": 1,
   "metadata": {},
   "outputs": [],
   "source": [
    "import numpy as np\n",
    "import netCDF4"
   ]
  },
  {
   "cell_type": "markdown",
   "metadata": {},
   "source": [
    "Data about ice sheet motion in Antarctica comes from NSIDC's [Antarctica Ice Velocity Map, Version 2](https://nsidc.org/data/nsidc-0484). The data set exports a 6.8 GB [NetCDF file](http://unidata.github.io/netcdf4-python/netCDF4/index.html)."
   ]
  },
  {
   "cell_type": "code",
   "execution_count": 2,
   "metadata": {},
   "outputs": [
    {
     "name": "stdout",
     "output_type": "stream",
     "text": [
      "<class 'netCDF4._netCDF4.Dataset'>\n",
      "root group (NETCDF4 data model, file format HDF5):\n",
      "    Conventions: CF-1.6\n",
      "    Metadata_Conventions: CF-1.6, Unidata Dataset Discovery v1.0, GDS v2.0\n",
      "    standard_name_vocabulary: CF Standard Name Table (v22, 12 February 2013)\n",
      "    id: vel_nsidc.CF16.nc\n",
      "    title: MEaSURES Antarctica Ice Velocity Map 450m spacing\n",
      "    product_version:  \n",
      "    summary:  \n",
      "    keywords:  \n",
      "    keywords_vocabulary:  \n",
      "    platform:  \n",
      "    sensor:  \n",
      "    date_created: 2017-04-06T17:47:44.00004923343322Z\n",
      "    institution: Department of Earth System Science, University of California, Irvine\n",
      "    cdm_data_type: Grid\n",
      "    geospatial_lat_units: degrees_north\n",
      "    geospatial_lon_units: degrees_east\n",
      "    geospatial_lat_min: -90\n",
      "    geospatial_lat_max: -60\n",
      "    geospatial_lon_min: -180\n",
      "    geospatial_lon_max: 180\n",
      "    spatial_resolution: 450m\n",
      "    time_coverage_start: 1995-01-01\n",
      "    time_coverage_end: 2016-12-31\n",
      "    project: NASA/MEaSUREs\n",
      "    creator_name: J. Mouginot\n",
      "    license: No restrictions on access or use\n",
      "    dimensions(sizes): x(12445), y(12445)\n",
      "    variables(dimensions): |S1 coord_system(), float64 x(x), float64 y(y), float64 lat(y,x), float64 lon(y,x), float32 VX(y,x), float32 VY(y,x), float32 STDX(y,x), float32 STDY(y,x), float32 ERRX(y,x), float32 ERRY(y,x), int32 CNT(y,x)\n",
      "    groups: \n"
     ]
    }
   ],
   "source": [
    "f = netCDF4.Dataset('data/antarctica_ice_velocity_450m_v2.nc')\n",
    "print(f)"
   ]
  },
  {
   "cell_type": "markdown",
   "metadata": {},
   "source": [
    "## Making a heatmap of ice velocity"
   ]
  },
  {
   "cell_type": "markdown",
   "metadata": {},
   "source": [
    "We first retrieve the numpy arrays for the variables `VX` and `VY` (components of velocity in m/yr in x/y direction). We then convert the velocity components into magnitude (speed)."
   ]
  },
  {
   "cell_type": "code",
   "execution_count": 10,
   "metadata": {},
   "outputs": [],
   "source": [
    "velX = f.variables['VX'][:]\n",
    "velY = f.variables['VY'][:]\n",
    "speed = (velX ** 2 + velY ** 2) ** 0.5"
   ]
  },
  {
   "cell_type": "markdown",
   "metadata": {},
   "source": [
    "To decide a color scale, let's first see how speed is distributed.\n",
    "\n",
    "Note: The data contain missing values (presumably for locations outside of Antarctica), so `VX` and `VY`, and thus `speed`, are [masked arrays](https://numpy.org/devdocs/reference/maskedarray.generic.html). We must first run it through [compressed](https://numpy.org/doc/1.18/reference/generated/numpy.ma.MaskedArray.compressed.html#numpy.ma.MaskedArray.compressed)."
   ]
  },
  {
   "cell_type": "code",
   "execution_count": 96,
   "metadata": {},
   "outputs": [],
   "source": [
    "speed_values = speed.compressed()"
   ]
  },
  {
   "cell_type": "code",
   "execution_count": 118,
   "metadata": {},
   "outputs": [
    {
     "data": {
      "text/plain": [
       "Text(0.5, 1.0, 'Ice speed distribution on a log scale')"
      ]
     },
     "execution_count": 118,
     "metadata": {},
     "output_type": "execute_result"
    },
    {
     "data": {
      "image/png": "[encoded data removed]",
      "text/plain": [
       "<Figure size 1008x432 with 2 Axes>"
      ]
     },
     "metadata": {
      "needs_background": "light"
     },
     "output_type": "display_data"
    }
   ],
   "source": [
    "fig, (ax_lin, ax_log) = plt.subplots(nrows=1, ncols=2, figsize=(14, 6))\n",
    "\n",
    "ax_lin.hist(speed_values, bins = 100)\n",
    "ax_lin.set_title('Ice speed distribution on a linear scale')\n",
    "\n",
    "ax_log.hist(speed_values, bins = 100)\n",
    "ax_log.set_yscale('log')\n",
    "ax_log.set_title('Ice speed distribution on a log scale')"
   ]
  },
  {
   "cell_type": "markdown",
   "metadata": {},
   "source": [
    "In the log graph there's a weirdly steep cutoff after ~5,000 m/yr but we'll ignore that for now. There are also a few outliers around 7,000 and 10,000. They might be worth annotating/investigating, or maybe they call for a different kind of scale (bins), but we'll do that later.\n",
    "\n",
    "For now, we'll go with a linear scale maxed at ~2,300 and see what happens. TODO: Find a better way to generate this max value, or just scrap the linear scale."
   ]
  },
  {
   "cell_type": "code",
   "execution_count": 4,
   "metadata": {},
   "outputs": [],
   "source": [
    "SPEED_MAX = 2300"
   ]
  },
  {
   "cell_type": "markdown",
   "metadata": {},
   "source": [
    "The next step is to map each speed to a color."
   ]
  },
  {
   "cell_type": "code",
   "execution_count": 5,
   "metadata": {},
   "outputs": [],
   "source": [
    "from matplotlib import cm, colors, pyplot as plt"
   ]
  },
  {
   "cell_type": "markdown",
   "metadata": {},
   "source": [
    "We'll use a linear scale."
   ]
  },
  {
   "cell_type": "code",
   "execution_count": 6,
   "metadata": {},
   "outputs": [],
   "source": [
    "norm = colors.Normalize(vmin=0, vmax=SPEED_MAX)\n",
    "color_map = cm.ScalarMappable(norm=norm, cmap='viridis')"
   ]
  },
  {
   "cell_type": "markdown",
   "metadata": {},
   "source": [
    "This color map is too slow, so we'll just do nearest-neighbor index stuff."
   ]
  },
  {
   "cell_type": "code",
   "execution_count": 7,
   "metadata": {},
   "outputs": [],
   "source": [
    "NUM_COLORS = 256"
   ]
  },
  {
   "cell_type": "code",
   "execution_count": 8,
   "metadata": {},
   "outputs": [],
   "source": [
    "cmap = cm.get_cmap('viridis', NUM_COLORS)\n",
    "cmap_colors = [list(np.around(v[:3] * 255, 2)) + [1] for v in cmap.colors]"
   ]
  },
  {
   "cell_type": "markdown",
   "metadata": {},
   "source": [
    "Now we map all speeds to their RGBA values. Do scaling first because numpy vectorization speed."
   ]
  },
  {
   "cell_type": "code",
   "execution_count": 21,
   "metadata": {},
   "outputs": [],
   "source": [
    "speed_scaled = np.rint(speed / SPEED_MAX * NUM_COLORS).astype(int)"
   ]
  },
  {
   "cell_type": "code",
   "execution_count": 11,
   "metadata": {},
   "outputs": [],
   "source": [
    "def get_color(s):\n",
    "    if s is np.ma.masked:\n",
    "        return [0, 0, 0, 0]\n",
    "    elif s > 1:\n",
    "        return cmap_colors[-1]\n",
    "    return cmap_colors[int(round(s))]"
   ]
  },
  {
   "cell_type": "code",
   "execution_count": null,
   "metadata": {},
   "outputs": [],
   "source": [
    "%%time\n",
    "speed_rgba = np.array(list(map(lambda array: [get_color(s) for s in array], speed_scaled[5000:10000, 5000:10000])))\n",
    "print(speed_rgba.shape)"
   ]
  },
  {
   "cell_type": "markdown",
   "metadata": {},
   "source": [
    "Note the difference in shape: Each speed scalar is now the RGBA tetrad."
   ]
  },
  {
   "cell_type": "code",
   "execution_count": 264,
   "metadata": {},
   "outputs": [
    {
     "data": {
      "text/plain": [
       "((1000, 1000, 4), (12445, 12445))"
      ]
     },
     "execution_count": 264,
     "metadata": {},
     "output_type": "execute_result"
    }
   ],
   "source": [
    "speed_rgba.shape, speed.shape"
   ]
  },
  {
   "cell_type": "markdown",
   "metadata": {},
   "source": [
    "## Convert RGBA numpy array to image"
   ]
  },
  {
   "cell_type": "code",
   "execution_count": 331,
   "metadata": {},
   "outputs": [],
   "source": [
    "from PIL import Image"
   ]
  },
  {
   "cell_type": "markdown",
   "metadata": {},
   "source": [
    "`Image.fromarray` doesn't work well [with floating points](https://github.com/python-pillow/Pillow/issues/2856), so we cast everything to uint8."
   ]
  },
  {
   "cell_type": "code",
   "execution_count": null,
   "metadata": {},
   "outputs": [],
   "source": [
    "speed_rgba_uint8 = speed_rgba.astype(np.uint8)"
   ]
  },
  {
   "cell_type": "markdown",
   "metadata": {},
   "source": [
    "Finally, we create and show the image."
   ]
  },
  {
   "cell_type": "code",
   "execution_count": null,
   "metadata": {},
   "outputs": [],
   "source": [
    "img = Image.fromarray(speed_rgba_uint8, 'RGBA')\n",
    "img.save('test.png')\n",
    "img.show()"
   ]
  }
 ],
 "metadata": {
  "kernelspec": {
   "display_name": "Python 3",
   "language": "python",
   "name": "python3"
  },
  "language_info": {
   "codemirror_mode": {
    "name": "ipython",
    "version": 3
   },
   "file_extension": ".py",
   "mimetype": "text/x-python",
   "name": "python",
   "nbconvert_exporter": "python",
   "pygments_lexer": "ipython3",
   "version": "3.7.7"
  }
 },
 "nbformat": 4,
 "nbformat_minor": 4
}
